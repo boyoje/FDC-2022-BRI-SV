{
 "cells": [
  {
   "cell_type": "markdown",
   "metadata": {},
   "source": [
    "# Churn Classification Model"
   ]
  },
  {
   "cell_type": "markdown",
   "metadata": {},
   "source": [
    "### Import"
   ]
  },
  {
   "cell_type": "code",
   "execution_count": 19,
   "metadata": {},
   "outputs": [],
   "source": [
    "import pandas as pd\n",
    "import numpy as np\n",
    "%matplotlib inline\n",
    "import matplotlib.pyplot as plt\n",
    "import seaborn as sns\n",
    "from scipy.stats import chi2_contingency"
   ]
  },
  {
   "cell_type": "code",
   "execution_count": 3,
   "metadata": {},
   "outputs": [],
   "source": [
    "data = pd.read_csv('../dataset/findata_challenge_train.csv')"
   ]
  },
  {
   "cell_type": "code",
   "execution_count": 4,
   "metadata": {},
   "outputs": [
    {
     "data": {
      "text/html": [
       "<div>\n",
       "<style scoped>\n",
       "    .dataframe tbody tr th:only-of-type {\n",
       "        vertical-align: middle;\n",
       "    }\n",
       "\n",
       "    .dataframe tbody tr th {\n",
       "        vertical-align: top;\n",
       "    }\n",
       "\n",
       "    .dataframe thead th {\n",
       "        text-align: right;\n",
       "    }\n",
       "</style>\n",
       "<table border=\"1\" class=\"dataframe\">\n",
       "  <thead>\n",
       "    <tr style=\"text-align: right;\">\n",
       "      <th></th>\n",
       "      <th>x0</th>\n",
       "      <th>x1</th>\n",
       "      <th>x2</th>\n",
       "      <th>x3</th>\n",
       "      <th>x4</th>\n",
       "      <th>x5</th>\n",
       "      <th>x6</th>\n",
       "      <th>x7</th>\n",
       "      <th>x8</th>\n",
       "      <th>x9</th>\n",
       "      <th>...</th>\n",
       "      <th>x116</th>\n",
       "      <th>x117</th>\n",
       "      <th>x118</th>\n",
       "      <th>x119</th>\n",
       "      <th>x120</th>\n",
       "      <th>x121</th>\n",
       "      <th>x122</th>\n",
       "      <th>x123</th>\n",
       "      <th>x124</th>\n",
       "      <th>y</th>\n",
       "    </tr>\n",
       "  </thead>\n",
       "  <tbody>\n",
       "    <tr>\n",
       "      <th>0</th>\n",
       "      <td>0.067563</td>\n",
       "      <td>-2.172492</td>\n",
       "      <td>-1.713774</td>\n",
       "      <td>-0.146854</td>\n",
       "      <td>-0.685219</td>\n",
       "      <td>-0.933838</td>\n",
       "      <td>4.0</td>\n",
       "      <td>2.0</td>\n",
       "      <td>-4.476051</td>\n",
       "      <td>-1.472306</td>\n",
       "      <td>...</td>\n",
       "      <td>4.607926</td>\n",
       "      <td>52.0</td>\n",
       "      <td>1.0</td>\n",
       "      <td>0.773809</td>\n",
       "      <td>0.766531</td>\n",
       "      <td>6.307142</td>\n",
       "      <td>9.074515</td>\n",
       "      <td>-2.694049</td>\n",
       "      <td>0.330964</td>\n",
       "      <td>0</td>\n",
       "    </tr>\n",
       "    <tr>\n",
       "      <th>1</th>\n",
       "      <td>0.099622</td>\n",
       "      <td>0.584803</td>\n",
       "      <td>-6.089758</td>\n",
       "      <td>-0.252186</td>\n",
       "      <td>-0.334912</td>\n",
       "      <td>-4.671281</td>\n",
       "      <td>4.0</td>\n",
       "      <td>2.0</td>\n",
       "      <td>-0.387076</td>\n",
       "      <td>-0.664552</td>\n",
       "      <td>...</td>\n",
       "      <td>15.889763</td>\n",
       "      <td>53.0</td>\n",
       "      <td>1.0</td>\n",
       "      <td>7.065852</td>\n",
       "      <td>0.994304</td>\n",
       "      <td>-0.028411</td>\n",
       "      <td>-21.472850</td>\n",
       "      <td>5.626095</td>\n",
       "      <td>1.293455</td>\n",
       "      <td>0</td>\n",
       "    </tr>\n",
       "    <tr>\n",
       "      <th>2</th>\n",
       "      <td>0.648421</td>\n",
       "      <td>3.881137</td>\n",
       "      <td>0.961359</td>\n",
       "      <td>0.217361</td>\n",
       "      <td>-1.471850</td>\n",
       "      <td>-0.975352</td>\n",
       "      <td>5.0</td>\n",
       "      <td>1.0</td>\n",
       "      <td>-0.850146</td>\n",
       "      <td>-4.011487</td>\n",
       "      <td>...</td>\n",
       "      <td>13.770410</td>\n",
       "      <td>53.0</td>\n",
       "      <td>1.0</td>\n",
       "      <td>-8.598553</td>\n",
       "      <td>-2.958302</td>\n",
       "      <td>-12.784030</td>\n",
       "      <td>-36.855873</td>\n",
       "      <td>0.356093</td>\n",
       "      <td>1.499790</td>\n",
       "      <td>0</td>\n",
       "    </tr>\n",
       "  </tbody>\n",
       "</table>\n",
       "<p>3 rows × 126 columns</p>\n",
       "</div>"
      ],
      "text/plain": [
       "         x0        x1        x2        x3        x4        x5   x6   x7  \\\n",
       "0  0.067563 -2.172492 -1.713774 -0.146854 -0.685219 -0.933838  4.0  2.0   \n",
       "1  0.099622  0.584803 -6.089758 -0.252186 -0.334912 -4.671281  4.0  2.0   \n",
       "2  0.648421  3.881137  0.961359  0.217361 -1.471850 -0.975352  5.0  1.0   \n",
       "\n",
       "         x8        x9  ...       x116  x117  x118      x119      x120  \\\n",
       "0 -4.476051 -1.472306  ...   4.607926  52.0   1.0  0.773809  0.766531   \n",
       "1 -0.387076 -0.664552  ...  15.889763  53.0   1.0  7.065852  0.994304   \n",
       "2 -0.850146 -4.011487  ...  13.770410  53.0   1.0 -8.598553 -2.958302   \n",
       "\n",
       "        x121       x122      x123      x124  y  \n",
       "0   6.307142   9.074515 -2.694049  0.330964  0  \n",
       "1  -0.028411 -21.472850  5.626095  1.293455  0  \n",
       "2 -12.784030 -36.855873  0.356093  1.499790  0  \n",
       "\n",
       "[3 rows x 126 columns]"
      ]
     },
     "execution_count": 4,
     "metadata": {},
     "output_type": "execute_result"
    }
   ],
   "source": [
    "data.head(3)"
   ]
  },
  {
   "cell_type": "code",
   "execution_count": 5,
   "metadata": {},
   "outputs": [
    {
     "name": "stdout",
     "output_type": "stream",
     "text": [
      "Data details\n",
      "----------------------\n",
      "Total observation    : 100000\n",
      "Total features       : 125\n",
      "Numerical features   : 120\n",
      "Categorical features : 5\n"
     ]
    }
   ],
   "source": [
    "tot_obs = len(data)\n",
    "tot_feat = len(data.columns) - 1\n",
    "tot_num_feat = len(data._get_numeric_data().columns) - 1\n",
    "tot_cat_feat = tot_feat - tot_num_feat\n",
    "\n",
    "\n",
    "print(f'Data details')\n",
    "print('-'*22)\n",
    "print(f'Total observation    : {tot_obs}')\n",
    "print(f'Total features       : {tot_feat}')\n",
    "print(f'Numerical features   : {tot_num_feat}')\n",
    "print(f'Categorical features : {tot_cat_feat}')"
   ]
  },
  {
   "cell_type": "markdown",
   "metadata": {},
   "source": [
    "# Handling Missing Values"
   ]
  },
  {
   "cell_type": "markdown",
   "metadata": {},
   "source": [
    "Check missing value percentage for each column"
   ]
  },
  {
   "cell_type": "code",
   "execution_count": 6,
   "metadata": {},
   "outputs": [
    {
     "name": "stdout",
     "output_type": "stream",
     "text": [
      "  col_name  perc (%)\n",
      "0      x45     0.159\n",
      "1      x70     0.159\n",
      "2      x14     0.156\n",
      "3      x72     0.149\n",
      "4     x110     0.148\n",
      "5      x75     0.146\n",
      "6      x13     0.145\n",
      "7     x112     0.142\n",
      "8      x10     0.142\n",
      "9      x86     0.141\n"
     ]
    },
    {
     "data": {
      "text/plain": [
       "<AxesSubplot:xlabel='perc (%)'>"
      ]
     },
     "execution_count": 6,
     "metadata": {},
     "output_type": "execute_result"
    }
   ],
   "source": [
    "perc_missing = (data.isna().sum()/len(data)).sort_values(ascending=False)*100\n",
    "perc_missing = pd.DataFrame(\n",
    "               {'col_name': perc_missing.index, 'perc (%)': perc_missing.values})\n",
    "print(perc_missing.head(10))\n",
    "sns.boxplot(data=perc_missing, x='perc (%)')"
   ]
  },
  {
   "cell_type": "code",
   "execution_count": 7,
   "metadata": {},
   "outputs": [
    {
     "data": {
      "text/plain": [
       "count    100000.00000\n",
       "mean          0.16024\n",
       "std           0.36683\n",
       "min           0.00000\n",
       "25%           0.00000\n",
       "50%           0.00000\n",
       "75%           0.00000\n",
       "max           1.00000\n",
       "dtype: float64"
      ]
     },
     "execution_count": 7,
     "metadata": {},
     "output_type": "execute_result"
    }
   ],
   "source": [
    "# Check missing values row-wise\n",
    "data.isna().sum(axis=1).describe()"
   ]
  },
  {
   "cell_type": "markdown",
   "metadata": {},
   "source": [
    "As we can see, there's no column that has significant missing values ***(max is 0.159% missing)***. \n",
    "\n",
    "And as we almost don't know each context of the column, so we can just change the missing value with `median` for **numerical value** and `mode` for **categorical value**."
   ]
  },
  {
   "cell_type": "code",
   "execution_count": 8,
   "metadata": {},
   "outputs": [],
   "source": [
    "# Get numerical column and categorical column\n",
    "num_col = data._get_numeric_data().columns[:-1]\n",
    "cat_col = data.drop(num_col, axis=1).columns[:-1]"
   ]
  },
  {
   "cell_type": "code",
   "execution_count": 9,
   "metadata": {},
   "outputs": [],
   "source": [
    "for col in cat_col:\n",
    "    data[col] = data[col].fillna(data[col].mode()[0])\n",
    "\n",
    "for col in num_col:\n",
    "    data[col] = data[col].fillna(data[col].median())"
   ]
  },
  {
   "cell_type": "code",
   "execution_count": 10,
   "metadata": {},
   "outputs": [
    {
     "data": {
      "text/html": [
       "<div>\n",
       "<style scoped>\n",
       "    .dataframe tbody tr th:only-of-type {\n",
       "        vertical-align: middle;\n",
       "    }\n",
       "\n",
       "    .dataframe tbody tr th {\n",
       "        vertical-align: top;\n",
       "    }\n",
       "\n",
       "    .dataframe thead th {\n",
       "        text-align: right;\n",
       "    }\n",
       "</style>\n",
       "<table border=\"1\" class=\"dataframe\">\n",
       "  <thead>\n",
       "    <tr style=\"text-align: right;\">\n",
       "      <th></th>\n",
       "      <th>perc (%)</th>\n",
       "    </tr>\n",
       "  </thead>\n",
       "  <tbody>\n",
       "    <tr>\n",
       "      <th>count</th>\n",
       "      <td>126.0</td>\n",
       "    </tr>\n",
       "    <tr>\n",
       "      <th>mean</th>\n",
       "      <td>0.0</td>\n",
       "    </tr>\n",
       "    <tr>\n",
       "      <th>std</th>\n",
       "      <td>0.0</td>\n",
       "    </tr>\n",
       "    <tr>\n",
       "      <th>min</th>\n",
       "      <td>0.0</td>\n",
       "    </tr>\n",
       "    <tr>\n",
       "      <th>25%</th>\n",
       "      <td>0.0</td>\n",
       "    </tr>\n",
       "    <tr>\n",
       "      <th>50%</th>\n",
       "      <td>0.0</td>\n",
       "    </tr>\n",
       "    <tr>\n",
       "      <th>75%</th>\n",
       "      <td>0.0</td>\n",
       "    </tr>\n",
       "    <tr>\n",
       "      <th>max</th>\n",
       "      <td>0.0</td>\n",
       "    </tr>\n",
       "  </tbody>\n",
       "</table>\n",
       "</div>"
      ],
      "text/plain": [
       "       perc (%)\n",
       "count     126.0\n",
       "mean        0.0\n",
       "std         0.0\n",
       "min         0.0\n",
       "25%         0.0\n",
       "50%         0.0\n",
       "75%         0.0\n",
       "max         0.0"
      ]
     },
     "execution_count": 10,
     "metadata": {},
     "output_type": "execute_result"
    }
   ],
   "source": [
    "perc_missing = (data.isna().sum()/len(data)).sort_values(ascending=False)*100\n",
    "perc_missing = pd.DataFrame({'col_name':perc_missing.index, 'perc (%)':perc_missing.values})\n",
    "perc_missing.describe()"
   ]
  },
  {
   "cell_type": "markdown",
   "metadata": {},
   "source": [
    "Missing value handled, now there's no missing value left."
   ]
  },
  {
   "cell_type": "markdown",
   "metadata": {},
   "source": [
    "# Exploratory Data Analysis"
   ]
  },
  {
   "cell_type": "markdown",
   "metadata": {},
   "source": [
    "## Categorical Data"
   ]
  },
  {
   "cell_type": "markdown",
   "metadata": {},
   "source": [
    "Since there's only 5 column (total categorical feature) that we can guess the meaning of, we can focus the EDA on those column first. Let's see each of their distribution and also their relation to the target value (churn or not)."
   ]
  },
  {
   "cell_type": "code",
   "execution_count": 11,
   "metadata": {},
   "outputs": [],
   "source": [
    "categorical_df = data[cat_col].copy()\n",
    "categorical_df = categorical_df.merge(data.iloc[:, -1], left_index=True, right_index=True)"
   ]
  },
  {
   "cell_type": "markdown",
   "metadata": {},
   "source": [
    "Plot the categorical data to see the distribution and see if there's something interesting (like anomaly or anything)."
   ]
  },
  {
   "cell_type": "code",
   "execution_count": 16,
   "metadata": {},
   "outputs": [
    {
     "data": {
      "image/png": "[encoded data removed]",
      "text/plain": [
       "<Figure size 1440x864 with 6 Axes>"
      ]
     },
     "metadata": {
      "needs_background": "light"
     },
     "output_type": "display_data"
    }
   ],
   "source": [
    "fig = plt.figure()\n",
    "fig.set_figheight(12)\n",
    "fig.set_figwidth(20)\n",
    "\n",
    "\n",
    "for i, col in enumerate(categorical_df.columns):\n",
    "    s = categorical_df[col].value_counts(normalize=True)\n",
    "    fig.add_subplot(int(f'23{i+1}'))\n",
    "    fig.tight_layout(pad=3)\n",
    "    sns.barplot(x=s.index, y=s)\n",
    "    plt.xticks(rotation=90)\n",
    "\n",
    "plt.show()"
   ]
  },
  {
   "cell_type": "markdown",
   "metadata": {},
   "source": [
    "From the graph above, we can see a glimpse of what the customer demography looks like. Interestingly, most of the \"people\" are not from java or DKI Jakarta. And from the education level which mostly occupied by \"SMP\", we can expect that the record mostly from people that lives in sub-urban area.\n",
    "\n",
    "Other thing is, we can see there's 2 feature that resemble month, but we can assume that they was not redundant, meaning they have different meaning (given the different distribution).\n",
    "\n",
    "And also, we can see there's a class imbalance in the dataset (around 4:1). The majority is class 0 (churn).\n",
    "\n",
    "Lastly, as we can see that gender has a low entropy, that's because there's only two option. But instead of removing gender attribute, where it's in most cases really useful, we can calculate the information gain or combininig them with another feature (let's say gender-education level).\n",
    "\n",
    "--------------------"
   ]
  },
  {
   "cell_type": "markdown",
   "metadata": {},
   "source": [
    "Next up, to see each categorical feature correlation with the target value. Are the target ***\"independent\"*** of one of the feature, or it is ***\"not independent\"***. We can use qualitative analysis (chi2 contingecy table) to see the correlation with p-value, and we can use information gain to see the entropy.\n",
    "\n",
    "-------\n",
    "H0: Target are indpendent.\n",
    "\n",
    "H1: Target are not independent."
   ]
  },
  {
   "cell_type": "code",
   "execution_count": 48,
   "metadata": {},
   "outputs": [
    {
     "data": {
      "text/html": [
       "<div>\n",
       "<style scoped>\n",
       "    .dataframe tbody tr th:only-of-type {\n",
       "        vertical-align: middle;\n",
       "    }\n",
       "\n",
       "    .dataframe tbody tr th {\n",
       "        vertical-align: top;\n",
       "    }\n",
       "\n",
       "    .dataframe thead th {\n",
       "        text-align: right;\n",
       "    }\n",
       "</style>\n",
       "<table border=\"1\" class=\"dataframe\">\n",
       "  <thead>\n",
       "    <tr style=\"text-align: right;\">\n",
       "      <th></th>\n",
       "      <th>feature</th>\n",
       "      <th>p_val</th>\n",
       "      <th>result</th>\n",
       "    </tr>\n",
       "  </thead>\n",
       "  <tbody>\n",
       "    <tr>\n",
       "      <th>0</th>\n",
       "      <td>x21</td>\n",
       "      <td>4.370747e-83</td>\n",
       "      <td>HO Reject</td>\n",
       "    </tr>\n",
       "    <tr>\n",
       "      <th>1</th>\n",
       "      <td>x79</td>\n",
       "      <td>3.425007e-01</td>\n",
       "      <td>Accept H0</td>\n",
       "    </tr>\n",
       "    <tr>\n",
       "      <th>2</th>\n",
       "      <td>x89</td>\n",
       "      <td>1.234964e-01</td>\n",
       "      <td>Accept H0</td>\n",
       "    </tr>\n",
       "    <tr>\n",
       "      <th>3</th>\n",
       "      <td>x108</td>\n",
       "      <td>9.800564e-01</td>\n",
       "      <td>Accept H0</td>\n",
       "    </tr>\n",
       "    <tr>\n",
       "      <th>4</th>\n",
       "      <td>x112</td>\n",
       "      <td>4.920055e-01</td>\n",
       "      <td>Accept H0</td>\n",
       "    </tr>\n",
       "  </tbody>\n",
       "</table>\n",
       "</div>"
      ],
      "text/plain": [
       "  feature         p_val     result\n",
       "0     x21  4.370747e-83  HO Reject\n",
       "1     x79  3.425007e-01  Accept H0\n",
       "2     x89  1.234964e-01  Accept H0\n",
       "3    x108  9.800564e-01  Accept H0\n",
       "4    x112  4.920055e-01  Accept H0"
      ]
     },
     "execution_count": 48,
     "metadata": {},
     "output_type": "execute_result"
    }
   ],
   "source": [
    "feature_list = [f for f in categorical_df.columns[:-1]]\n",
    "p_val_list = []\n",
    "for feature in feature_list:\n",
    "    cr = pd.crosstab(categorical_df[feature], categorical_df.y)\n",
    "    ch = chi2_contingency(cr)\n",
    "    p_val = ch[1]\n",
    "    p_val_list.append(p_val)\n",
    "\n",
    "alpha = 0.05\n",
    "chi2_test = pd.DataFrame({'feature': feature_list, 'p_val': p_val_list})\n",
    "chi2_test['result'] = np.where(chi2_test.p_val < alpha,\n",
    "                               'HO Reject', 'Accept H0')\n",
    "chi2_test"
   ]
  },
  {
   "cell_type": "markdown",
   "metadata": {},
   "source": [
    "From the chi2 squared test, we can see that feature x21 is the only feature that are \"not independent\". But we need to also look at the entropy using information gain."
   ]
  },
  {
   "cell_type": "markdown",
   "metadata": {},
   "source": [
    "Next step:\n",
    "1. information gain\n",
    "2. transforming gender\n",
    "3. calculating information gain lagi\n",
    "5. high correlation between feature -> pearson/spearman.\n",
    "6. student t-test\n",
    "7. anova-f\n",
    "8. feature engineering\n",
    "9. base model logit\n",
    "10. base model xgboost\n",
    "11. model with transformed feature\n",
    "12. hyperparameter tuning\n",
    "13. back test"
   ]
  },
  {
   "cell_type": "markdown",
   "metadata": {},
   "source": [
    "## Numerical Data"
   ]
  },
  {
   "cell_type": "markdown",
   "metadata": {},
   "source": [
    "Lookout for numerical data that's not normalized."
   ]
  },
  {
   "cell_type": "code",
   "execution_count": 14,
   "metadata": {},
   "outputs": [],
   "source": [
    "# Get unnormalized numerical data\n",
    "s = (data[num_col].min() > 0)\n",
    "not_norm_col = s[s].index\n",
    "nanorm = data[not_norm_col]"
   ]
  },
  {
   "cell_type": "code",
   "execution_count": 15,
   "metadata": {},
   "outputs": [
    {
     "data": {
      "text/html": [
       "<div>\n",
       "<style scoped>\n",
       "    .dataframe tbody tr th:only-of-type {\n",
       "        vertical-align: middle;\n",
       "    }\n",
       "\n",
       "    .dataframe tbody tr th {\n",
       "        vertical-align: top;\n",
       "    }\n",
       "\n",
       "    .dataframe thead th {\n",
       "        text-align: right;\n",
       "    }\n",
       "</style>\n",
       "<table border=\"1\" class=\"dataframe\">\n",
       "  <thead>\n",
       "    <tr style=\"text-align: right;\">\n",
       "      <th></th>\n",
       "      <th>x63</th>\n",
       "      <th>x80</th>\n",
       "      <th>x93</th>\n",
       "      <th>x96</th>\n",
       "      <th>x117</th>\n",
       "    </tr>\n",
       "  </thead>\n",
       "  <tbody>\n",
       "    <tr>\n",
       "      <th>count</th>\n",
       "      <td>100000.000000</td>\n",
       "      <td>100000.00000</td>\n",
       "      <td>100000.000000</td>\n",
       "      <td>100000.000000</td>\n",
       "      <td>100000.000000</td>\n",
       "    </tr>\n",
       "    <tr>\n",
       "      <th>mean</th>\n",
       "      <td>13.275090</td>\n",
       "      <td>2018.04551</td>\n",
       "      <td>2009.753330</td>\n",
       "      <td>12.632470</td>\n",
       "      <td>50.012680</td>\n",
       "    </tr>\n",
       "    <tr>\n",
       "      <th>std</th>\n",
       "      <td>3.102375</td>\n",
       "      <td>0.84918</td>\n",
       "      <td>2.339141</td>\n",
       "      <td>2.799323</td>\n",
       "      <td>6.887448</td>\n",
       "    </tr>\n",
       "    <tr>\n",
       "      <th>min</th>\n",
       "      <td>1.000000</td>\n",
       "      <td>2015.00000</td>\n",
       "      <td>2000.000000</td>\n",
       "      <td>1.000000</td>\n",
       "      <td>21.000000</td>\n",
       "    </tr>\n",
       "    <tr>\n",
       "      <th>25%</th>\n",
       "      <td>11.000000</td>\n",
       "      <td>2018.00000</td>\n",
       "      <td>2008.000000</td>\n",
       "      <td>11.000000</td>\n",
       "      <td>45.000000</td>\n",
       "    </tr>\n",
       "    <tr>\n",
       "      <th>50%</th>\n",
       "      <td>13.000000</td>\n",
       "      <td>2018.00000</td>\n",
       "      <td>2010.000000</td>\n",
       "      <td>13.000000</td>\n",
       "      <td>50.000000</td>\n",
       "    </tr>\n",
       "    <tr>\n",
       "      <th>75%</th>\n",
       "      <td>15.000000</td>\n",
       "      <td>2019.00000</td>\n",
       "      <td>2011.000000</td>\n",
       "      <td>14.000000</td>\n",
       "      <td>54.000000</td>\n",
       "    </tr>\n",
       "    <tr>\n",
       "      <th>max</th>\n",
       "      <td>27.000000</td>\n",
       "      <td>2021.00000</td>\n",
       "      <td>2020.000000</td>\n",
       "      <td>27.000000</td>\n",
       "      <td>80.000000</td>\n",
       "    </tr>\n",
       "  </tbody>\n",
       "</table>\n",
       "</div>"
      ],
      "text/plain": [
       "                 x63           x80            x93            x96  \\\n",
       "count  100000.000000  100000.00000  100000.000000  100000.000000   \n",
       "mean       13.275090    2018.04551    2009.753330      12.632470   \n",
       "std         3.102375       0.84918       2.339141       2.799323   \n",
       "min         1.000000    2015.00000    2000.000000       1.000000   \n",
       "25%        11.000000    2018.00000    2008.000000      11.000000   \n",
       "50%        13.000000    2018.00000    2010.000000      13.000000   \n",
       "75%        15.000000    2019.00000    2011.000000      14.000000   \n",
       "max        27.000000    2021.00000    2020.000000      27.000000   \n",
       "\n",
       "                x117  \n",
       "count  100000.000000  \n",
       "mean       50.012680  \n",
       "std         6.887448  \n",
       "min        21.000000  \n",
       "25%        45.000000  \n",
       "50%        50.000000  \n",
       "75%        54.000000  \n",
       "max        80.000000  "
      ]
     },
     "execution_count": 15,
     "metadata": {},
     "output_type": "execute_result"
    }
   ],
   "source": [
    "nanorm.describe()"
   ]
  },
  {
   "cell_type": "code",
   "execution_count": null,
   "metadata": {},
   "outputs": [],
   "source": []
  }
 ],
 "metadata": {
  "interpreter": {
   "hash": "e7390eca47d1a9b7f0a02b373790036434156950179a7fadf5b638697bd3f862"
  },
  "kernelspec": {
   "display_name": "Python 3.10.2 ('FDC-2022-BRI-SV': venv)",
   "language": "python",
   "name": "python3"
  },
  "language_info": {
   "codemirror_mode": {
    "name": "ipython",
    "version": 3
   },
   "file_extension": ".py",
   "mimetype": "text/x-python",
   "name": "python",
   "nbconvert_exporter": "python",
   "pygments_lexer": "ipython3",
   "version": "3.10.2"
  },
  "orig_nbformat": 4
 },
 "nbformat": 4,
 "nbformat_minor": 2
}
