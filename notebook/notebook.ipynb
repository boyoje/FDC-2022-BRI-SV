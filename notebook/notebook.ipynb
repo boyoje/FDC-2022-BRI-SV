{
 "cells": [
  {
   "cell_type": "code",
   "execution_count": 10,
   "metadata": {},
   "outputs": [],
   "source": [
    "import pandas as pd\n",
    "import numpy as np\n",
    "import matplotlib.pyplot as plt\n",
    "import seaborn as sns"
   ]
  },
  {
   "cell_type": "code",
   "execution_count": 2,
   "metadata": {},
   "outputs": [
    {
     "name": "stdout",
     "output_type": "stream",
     "text": [
      "Package           Version\n",
      "----------------- -------\n",
      "appnope           0.1.2\n",
      "asttokens         2.0.5\n",
      "backcall          0.2.0\n",
      "black             22.1.0\n",
      "click             8.0.3\n",
      "cycler            0.11.0\n",
      "debugpy           1.5.1\n",
      "decorator         5.1.1\n",
      "entrypoints       0.4\n",
      "executing         0.8.2\n",
      "fonttools         4.29.1\n",
      "ipykernel         6.9.0\n",
      "ipython           8.0.1\n",
      "jedi              0.18.1\n",
      "jupyter-client    7.1.2\n",
      "jupyter-core      4.9.1\n",
      "kiwisolver        1.3.2\n",
      "matplotlib        3.5.1\n",
      "matplotlib-inline 0.1.3\n",
      "mypy-extensions   0.4.3\n",
      "nest-asyncio      1.5.4\n",
      "numpy             1.22.2\n",
      "packaging         21.3\n",
      "pandas            1.4.1\n",
      "parso             0.8.3\n",
      "pathspec          0.9.0\n",
      "pexpect           4.8.0\n",
      "pickleshare       0.7.5\n",
      "Pillow            9.0.1\n",
      "pip               22.0.3\n",
      "platformdirs      2.5.0\n",
      "prompt-toolkit    3.0.28\n",
      "ptyprocess        0.7.0\n",
      "pure-eval         0.2.2\n",
      "Pygments          2.11.2\n",
      "pyparsing         3.0.7\n",
      "python-dateutil   2.8.2\n",
      "pytz              2021.3\n",
      "pyzmq             22.3.0\n",
      "scipy             1.8.0\n",
      "seaborn           0.11.2\n",
      "setuptools        60.6.0\n",
      "six               1.16.0\n",
      "stack-data        0.2.0\n",
      "tomli             2.0.1\n",
      "tornado           6.1\n",
      "traitlets         5.1.1\n",
      "wcwidth           0.2.5\n",
      "wheel             0.37.1\n",
      "Note: you may need to restart the kernel to use updated packages.\n"
     ]
    }
   ],
   "source": [
    "pip list"
   ]
  },
  {
   "cell_type": "code",
   "execution_count": null,
   "metadata": {},
   "outputs": [],
   "source": []
  }
 ],
 "metadata": {
  "interpreter": {
   "hash": "e7390eca47d1a9b7f0a02b373790036434156950179a7fadf5b638697bd3f862"
  },
  "kernelspec": {
   "display_name": "Python 3.10.2 ('FDC-2022-BRI-SV': venv)",
   "language": "python",
   "name": "python3"
  },
  "language_info": {
   "codemirror_mode": {
    "name": "ipython",
    "version": 3
   },
   "file_extension": ".py",
   "mimetype": "text/x-python",
   "name": "python",
   "nbconvert_exporter": "python",
   "pygments_lexer": "ipython3",
   "version": "3.10.2"
  },
  "orig_nbformat": 4
 },
 "nbformat": 4,
 "nbformat_minor": 2
}
